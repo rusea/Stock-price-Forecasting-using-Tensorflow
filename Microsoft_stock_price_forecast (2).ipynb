{
  "nbformat": 4,
  "nbformat_minor": 0,
  "metadata": {
    "colab": {
      "name": "Microsoft_stock_price_forecast.ipynb",
      "provenance": [],
      "collapsed_sections": []
    },
    "kernelspec": {
      "display_name": "Python 3",
      "language": "python",
      "name": "python3"
    },
    "accelerator": "GPU"
  },
  "cells": [
    {
      "cell_type": "code",
      "metadata": {
        "id": "NKTP5NRSAW4J",
        "colab_type": "code",
        "outputId": "30a7080d-7bd0-4202-86f6-d50eabd09211",
        "colab": {
          "base_uri": "https://localhost:8080/",
          "height": 136
        }
      },
      "source": [
        "import os\n",
        "import sys\n",
        "import pandas as pd\n",
        "import numpy as np \n",
        "import math\n",
        "from sklearn.preprocessing import MinMaxScaler\n",
        "from sklearn.metrics import mean_squared_error\n",
        "from sklearn.model_selection import train_test_split\n",
        "import tensorflow as tf\n",
        "\n",
        "print(\"OS: \", sys.platform)\n",
        "print(\"Python: \", sys.version)\n",
        "print(\"Tensorflow: \", tf.__version__)\n",
        "print(\"Numpy: \", np.__version__)\n",
        "\n",
        "%load_ext autoreload\n",
        "%autoreload 2"
      ],
      "execution_count": 7,
      "outputs": [
        {
          "output_type": "stream",
          "text": [
            "OS:  linux\n",
            "Python:  3.6.8 (default, Jan 14 2019, 11:02:34) \n",
            "[GCC 8.0.1 20180414 (experimental) [trunk revision 259383]]\n",
            "Tensorflow:  1.14.0\n",
            "Numpy:  1.16.5\n",
            "The autoreload extension is already loaded. To reload it, use:\n",
            "  %reload_ext autoreload\n"
          ],
          "name": "stdout"
        }
      ]
    },
    {
      "cell_type": "markdown",
      "metadata": {
        "id": "hQFhti32AW4S",
        "colab_type": "text"
      },
      "source": [
        "### Data"
      ]
    },
    {
      "cell_type": "code",
      "metadata": {
        "id": "Pi8HFO0mBkgp",
        "colab_type": "code",
        "outputId": "583937e9-a02a-460e-b2b4-e3bf2684e2ba",
        "colab": {
          "base_uri": "https://localhost:8080/",
          "height": 224
        }
      },
      "source": [
        "!wget https://raw.githubusercontent.com/miguelgfierro/sciblog_support/master/Time_Series_Forecasting_of_Stock_Price/data/MSFT_2012_2017.csv"
      ],
      "execution_count": 2,
      "outputs": [
        {
          "output_type": "stream",
          "text": [
            "--2019-10-04 00:52:48--  https://raw.githubusercontent.com/miguelgfierro/sciblog_support/master/Time_Series_Forecasting_of_Stock_Price/data/MSFT_2012_2017.csv\n",
            "Resolving raw.githubusercontent.com (raw.githubusercontent.com)... 151.101.0.133, 151.101.64.133, 151.101.128.133, ...\n",
            "Connecting to raw.githubusercontent.com (raw.githubusercontent.com)|151.101.0.133|:443... connected.\n",
            "HTTP request sent, awaiting response... 200 OK\n",
            "Length: 105688 (103K) [text/plain]\n",
            "Saving to: ‘MSFT_2012_2017.csv’\n",
            "\n",
            "\rMSFT_2012_2017.csv    0%[                    ]       0  --.-KB/s               \rMSFT_2012_2017.csv  100%[===================>] 103.21K  --.-KB/s    in 0.04s   \n",
            "\n",
            "2019-10-04 00:52:48 (2.57 MB/s) - ‘MSFT_2012_2017.csv’ saved [105688/105688]\n",
            "\n"
          ],
          "name": "stdout"
        }
      ]
    },
    {
      "cell_type": "code",
      "metadata": {
        "id": "PD7Xh-ufAW4S",
        "colab_type": "code",
        "colab": {}
      },
      "source": [
        "DATA = os.path.join('./', 'MSFT_2012_2017.csv')\n",
        "EPOCHS = 10\n",
        "TEST_SIZE = 0.3\n",
        "TIME_AHEAD = 1 #prediction step\n",
        "BATCH_SIZE = 1\n",
        "UNITS = 10\n",
        "SEQUENCE = 10"
      ],
      "execution_count": 0,
      "outputs": []
    },
    {
      "cell_type": "code",
      "metadata": {
        "id": "MzaqWtJMAW4W",
        "colab_type": "code",
        "outputId": "392cb846-781b-4f46-f2ad-c14a09c0c409",
        "colab": {
          "base_uri": "https://localhost:8080/",
          "height": 221
        }
      },
      "source": [
        "df = pd.read_csv(DATA)\n",
        "df = df.drop(['Adj Close', 'Volume'], axis=1)\n",
        "print(df.shape)\n",
        "df.head()"
      ],
      "execution_count": 9,
      "outputs": [
        {
          "output_type": "stream",
          "text": [
            "(1509, 5)\n"
          ],
          "name": "stdout"
        },
        {
          "output_type": "execute_result",
          "data": {
            "text/html": [
              "<div>\n",
              "<style scoped>\n",
              "    .dataframe tbody tr th:only-of-type {\n",
              "        vertical-align: middle;\n",
              "    }\n",
              "\n",
              "    .dataframe tbody tr th {\n",
              "        vertical-align: top;\n",
              "    }\n",
              "\n",
              "    .dataframe thead th {\n",
              "        text-align: right;\n",
              "    }\n",
              "</style>\n",
              "<table border=\"1\" class=\"dataframe\">\n",
              "  <thead>\n",
              "    <tr style=\"text-align: right;\">\n",
              "      <th></th>\n",
              "      <th>Date</th>\n",
              "      <th>Open</th>\n",
              "      <th>High</th>\n",
              "      <th>Low</th>\n",
              "      <th>Close</th>\n",
              "    </tr>\n",
              "  </thead>\n",
              "  <tbody>\n",
              "    <tr>\n",
              "      <th>0</th>\n",
              "      <td>2012-01-03</td>\n",
              "      <td>26.549999</td>\n",
              "      <td>26.959999</td>\n",
              "      <td>26.389999</td>\n",
              "      <td>26.770000</td>\n",
              "    </tr>\n",
              "    <tr>\n",
              "      <th>1</th>\n",
              "      <td>2012-01-04</td>\n",
              "      <td>26.820000</td>\n",
              "      <td>27.469999</td>\n",
              "      <td>26.780001</td>\n",
              "      <td>27.400000</td>\n",
              "    </tr>\n",
              "    <tr>\n",
              "      <th>2</th>\n",
              "      <td>2012-01-05</td>\n",
              "      <td>27.379999</td>\n",
              "      <td>27.730000</td>\n",
              "      <td>27.290001</td>\n",
              "      <td>27.680000</td>\n",
              "    </tr>\n",
              "    <tr>\n",
              "      <th>3</th>\n",
              "      <td>2012-01-06</td>\n",
              "      <td>27.530001</td>\n",
              "      <td>28.190001</td>\n",
              "      <td>27.530001</td>\n",
              "      <td>28.110001</td>\n",
              "    </tr>\n",
              "    <tr>\n",
              "      <th>4</th>\n",
              "      <td>2012-01-09</td>\n",
              "      <td>28.049999</td>\n",
              "      <td>28.100000</td>\n",
              "      <td>27.719999</td>\n",
              "      <td>27.740000</td>\n",
              "    </tr>\n",
              "  </tbody>\n",
              "</table>\n",
              "</div>"
            ],
            "text/plain": [
              "         Date       Open       High        Low      Close\n",
              "0  2012-01-03  26.549999  26.959999  26.389999  26.770000\n",
              "1  2012-01-04  26.820000  27.469999  26.780001  27.400000\n",
              "2  2012-01-05  27.379999  27.730000  27.290001  27.680000\n",
              "3  2012-01-06  27.530001  28.190001  27.530001  28.110001\n",
              "4  2012-01-09  28.049999  28.100000  27.719999  27.740000"
            ]
          },
          "metadata": {
            "tags": []
          },
          "execution_count": 9
        }
      ]
    },
    {
      "cell_type": "code",
      "metadata": {
        "id": "G2GkwTejExJl",
        "colab_type": "code",
        "colab": {}
      },
      "source": [
        "# helper functions\n",
        "\n",
        "import matplotlib.pyplot as plt\n",
        "from IPython.display import SVG, display\n",
        "\n",
        "def plot_series(values, xlabel=None, ylabel=None, color='b', legend=None):\n",
        "    xx = np.arange(1, len(values) + 1, 1)\n",
        "    plt.plot(xx, values, color, label=legend)\n",
        "    plt.legend(loc = 'upper left')\n",
        "    plt.xlabel(xlabel)\n",
        "    plt.ylabel(ylabel)\n",
        "    plt.show()\n",
        "    \n",
        "\n",
        "def plot_series_prediction(true_values, train_predict, test_predict, time_ahead=1, title=None,\n",
        "                           xlabel=None, ylabel=None, color=['green','red','blue'], legend=[None,None,None]):    \n",
        "    TOOLS = 'pan,wheel_zoom,box_zoom,reset,save,box_select'\n",
        "    #x axis\n",
        "    xx = np.array(range(true_values.shape[0]))\n",
        "    xx1 = np.array(range(time_ahead,len(train_predict)+time_ahead))\n",
        "    xx2 = np.array(range(len(train_predict)+(time_ahead*2)+1,len(true_values)-1))\n",
        "    \n",
        "    #figure\n",
        "    plt.plot(xx, true_values.squeeze())\n",
        "    plt.plot(xx1, train_predict.squeeze())\n",
        "    plt.plot(xx2, test_predict.squeeze())\n",
        "    \n",
        "    plt.xlabel(xlabel)\n",
        "    plt.ylabel(ylabel)\n",
        "    plt.legend(['true', 'training set', 'test predict'], loc='upper left')\n",
        "    plt.show()\n",
        "\n",
        "    \n",
        "def to_1dimension(df, step_size):\n",
        "    X, y = [], []\n",
        "    for i in range(len(df)-step_size-1):\n",
        "        data = df[i:(i+step_size), 0]\n",
        "        X.append(data)\n",
        "        y.append(df[i + step_size, 0])\n",
        "    X, y = np.array(X), np.array(y)\n",
        "    X = np.reshape(X, (X.shape[0], 1, X.shape[1]))\n",
        "    return X, y"
      ],
      "execution_count": 0,
      "outputs": []
    },
    {
      "cell_type": "code",
      "metadata": {
        "id": "6Kbh98XgAW4a",
        "colab_type": "code",
        "outputId": "fea80fbd-008d-40f1-c8af-1b5edfb305b4",
        "colab": {
          "base_uri": "https://localhost:8080/",
          "height": 300
        }
      },
      "source": [
        "mean_price = df.mean(axis = 1)\n",
        "print(mean_price.shape)\n",
        "plot_series(mean_price, xlabel='Days', ylabel='Mean value of Microsoft Stock', color='b', legend='Mean price')"
      ],
      "execution_count": 12,
      "outputs": [
        {
          "output_type": "stream",
          "text": [
            "(1509,)\n"
          ],
          "name": "stdout"
        },
        {
          "output_type": "display_data",
          "data": {
            "image/png": "[encoded data removed]",
            "text/plain": [
              "<Figure size 432x288 with 1 Axes>"
            ]
          },
          "metadata": {
            "tags": []
          }
        }
      ]
    },
    {
      "cell_type": "code",
      "metadata": {
        "id": "sWrAoL3eAW4e",
        "colab_type": "code",
        "colab": {}
      },
      "source": [
        "scaler = MinMaxScaler(feature_range=(0, 1)) #other typical scale values are -1,1\n",
        "mean_price = scaler.fit_transform(np.reshape(mean_price.values, (len(mean_price),1)))"
      ],
      "execution_count": 0,
      "outputs": []
    },
    {
      "cell_type": "code",
      "metadata": {
        "id": "jR7sNRKuAW4h",
        "colab_type": "code",
        "outputId": "24986f9a-94b3-487e-b993-4e9cb5be7cf2",
        "colab": {
          "base_uri": "https://localhost:8080/",
          "height": 51
        }
      },
      "source": [
        "train, test = train_test_split(mean_price, test_size=TEST_SIZE, shuffle=False)\n",
        "print(train.shape)\n",
        "print(test.shape)"
      ],
      "execution_count": 14,
      "outputs": [
        {
          "output_type": "stream",
          "text": [
            "(1056, 1)\n",
            "(453, 1)\n"
          ],
          "name": "stdout"
        }
      ]
    },
    {
      "cell_type": "code",
      "metadata": {
        "id": "T1qJ-ZR0AW4l",
        "colab_type": "code",
        "outputId": "9cb4bccb-b656-4826-fb0d-d751842b1342",
        "colab": {
          "base_uri": "https://localhost:8080/",
          "height": 51
        }
      },
      "source": [
        "X_train, y_train = to_1dimension(train, TIME_AHEAD)\n",
        "X_test, y_test = to_1dimension(test, TIME_AHEAD)\n",
        "print(X_train.shape, y_train.shape)\n",
        "print(X_test.shape, y_test.shape)\n",
        "# (1054, 10, 1)-> (10,1)"
      ],
      "execution_count": 15,
      "outputs": [
        {
          "output_type": "stream",
          "text": [
            "(1054, 1, 1) (1054,)\n",
            "(451, 1, 1) (451,)\n"
          ],
          "name": "stdout"
        }
      ]
    },
    {
      "cell_type": "markdown",
      "metadata": {
        "id": "RPdxi7P-AW4q",
        "colab_type": "text"
      },
      "source": [
        "### LSTM"
      ]
    },
    {
      "cell_type": "code",
      "metadata": {
        "id": "DoCJeHvOAW4r",
        "colab_type": "code",
        "colab": {}
      },
      "source": [
        "def create_symbol(X, model_name='LSTM', units=10, activation='linear', time_ahead=1, dropout=True):\n",
        "    # with tf.variable_scope(\"RNN\"):\n",
        "    if model_name == 'LSTM':\n",
        "        if dropout:\n",
        "            cell = tf.contrib.rnn.DropoutWrapper(\n",
        "                              # tf.contrib.rnn.BasicLSTMCell(units, forget_bias=1.0), #LSTMCell(units),\n",
        "                              tf.contrib.rnn.LSTMCell(units),\n",
        "                              output_keep_prob=0.8)\n",
        "        else:\n",
        "            cell = tf.contrib.rnn.BasicLSTMCell(units, forget_bias=1.0) #LSTMCell(units)\n",
        "        \n",
        "        outputs, states = tf.nn.dynamic_rnn(cell, X, dtype=tf.float32)\n",
        "\n",
        "    elif model_name == 'GRU':\n",
        "        cell = tf.contrib.rnn.GRUCell(units)\n",
        "        outputs, states = tf.nn.dynamic_rnn(cell, X, dtype=tf.float32)\n",
        "    else:\n",
        "        raise ValueError(\"Wrong model name\")\n",
        "    sym = tf.layers.dense(outputs[-1], 1, activation=None, name='output') #activation=None (linear activation)\n",
        "    return sym"
      ],
      "execution_count": 0,
      "outputs": []
    },
    {
      "cell_type": "code",
      "metadata": {
        "id": "yBycdnCtAW4u",
        "colab_type": "code",
        "outputId": "0a6f5076-012d-4b56-dc36-a55fd3f0c874",
        "colab": {
          "base_uri": "https://localhost:8080/",
          "height": 377
        }
      },
      "source": [
        "tf.reset_default_graph()\n",
        "\n",
        "# Place-holders\n",
        "X = tf.placeholder(tf.float32, shape=[None, 1, TIME_AHEAD])\n",
        "y = tf.placeholder(tf.float32, shape=[None])\n",
        "\n",
        "# with sess.as_default():\n",
        "sym = create_symbol(X, model_name='GRU', units=UNITS, time_ahead=TIME_AHEAD, dropout=False)\n",
        "loss = tf.reduce_mean(tf.squared_difference(sym, y)) #mse\n",
        "optimizer = tf.train.AdamOptimizer()\n",
        "model = optimizer.minimize(loss)\n",
        "\n",
        "init = tf.global_variables_initializer()\n",
        "sess = tf.Session()\n",
        "sess.run(init)\n",
        "\n",
        "# training\n",
        "for i in range(EPOCHS):\n",
        "    ii = 0\n",
        "    while(ii + BATCH_SIZE) <= len(X_train):\n",
        "        X_batch = X_train[ii:ii+BATCH_SIZE,:,:]\n",
        "        y_batch = y_train[ii:ii+BATCH_SIZE]\n",
        "        sess.run(model, feed_dict={X:X_batch, y:y_batch})\n",
        "        ii += BATCH_SIZE\n",
        "    loss_train = sess.run(loss, feed_dict={X: X_batch, y: y_batch})\n",
        "    print('Epoch {}/{}'.format(i+1, EPOCHS), ' Current loss: {}'.format(loss_train))\n",
        "\n",
        "y_guess = np.zeros(y_test.shape[0], dtype=np.float32)\n",
        "ii = 0\n",
        "while(ii + BATCH_SIZE) <= len(X_test):\n",
        "    X_batch = X_test[ii:ii+BATCH_SIZE,:,:]\n",
        "    output = sess.run(sym, feed_dict={X:X_batch})\n",
        "    y_guess[ii:ii+BATCH_SIZE] = output\n",
        "    ii += BATCH_SIZE"
      ],
      "execution_count": 20,
      "outputs": [
        {
          "output_type": "stream",
          "text": [
            "WARNING:tensorflow:From <ipython-input-16-4ff9cc759d59>:15: GRUCell.__init__ (from tensorflow.python.ops.rnn_cell_impl) is deprecated and will be removed in a future version.\n",
            "Instructions for updating:\n",
            "This class is equivalent as tf.keras.layers.GRUCell, and will be replaced by that in Tensorflow 2.0.\n",
            "WARNING:tensorflow:From /usr/local/lib/python3.6/dist-packages/tensorflow/python/ops/rnn_cell_impl.py:564: calling Constant.__init__ (from tensorflow.python.ops.init_ops) with dtype is deprecated and will be removed in a future version.\n",
            "Instructions for updating:\n",
            "Call initializer instance with the dtype argument instead of passing it to the constructor\n",
            "WARNING:tensorflow:Entity <bound method GRUCell.call of <tensorflow.python.ops.rnn_cell_impl.GRUCell object at 0x7f84800569e8>> could not be transformed and will be executed as-is. Please report this to the AutgoGraph team. When filing the bug, set the verbosity to 10 (on Linux, `export AUTOGRAPH_VERBOSITY=10`) and attach the full output. Cause: converting <bound method GRUCell.call of <tensorflow.python.ops.rnn_cell_impl.GRUCell object at 0x7f84800569e8>>: AssertionError: Bad argument number for Name: 3, expecting 4\n",
            "WARNING: Entity <bound method GRUCell.call of <tensorflow.python.ops.rnn_cell_impl.GRUCell object at 0x7f84800569e8>> could not be transformed and will be executed as-is. Please report this to the AutgoGraph team. When filing the bug, set the verbosity to 10 (on Linux, `export AUTOGRAPH_VERBOSITY=10`) and attach the full output. Cause: converting <bound method GRUCell.call of <tensorflow.python.ops.rnn_cell_impl.GRUCell object at 0x7f84800569e8>>: AssertionError: Bad argument number for Name: 3, expecting 4\n",
            "WARNING:tensorflow:Entity <bound method Dense.call of <tensorflow.python.layers.core.Dense object at 0x7f8480056ef0>> could not be transformed and will be executed as-is. Please report this to the AutgoGraph team. When filing the bug, set the verbosity to 10 (on Linux, `export AUTOGRAPH_VERBOSITY=10`) and attach the full output. Cause: converting <bound method Dense.call of <tensorflow.python.layers.core.Dense object at 0x7f8480056ef0>>: AssertionError: Bad argument number for Name: 3, expecting 4\n",
            "WARNING: Entity <bound method Dense.call of <tensorflow.python.layers.core.Dense object at 0x7f8480056ef0>> could not be transformed and will be executed as-is. Please report this to the AutgoGraph team. When filing the bug, set the verbosity to 10 (on Linux, `export AUTOGRAPH_VERBOSITY=10`) and attach the full output. Cause: converting <bound method Dense.call of <tensorflow.python.layers.core.Dense object at 0x7f8480056ef0>>: AssertionError: Bad argument number for Name: 3, expecting 4\n",
            "Epoch 1/10  Current loss: 4.623467611963861e-05\n",
            "Epoch 2/10  Current loss: 2.6260289814672433e-05\n",
            "Epoch 3/10  Current loss: 1.802215956558939e-05\n",
            "Epoch 4/10  Current loss: 1.1214445294172037e-05\n",
            "Epoch 5/10  Current loss: 6.145672159618698e-06\n",
            "Epoch 6/10  Current loss: 3.7586758026009193e-06\n",
            "Epoch 7/10  Current loss: 2.849355951184407e-06\n",
            "Epoch 8/10  Current loss: 2.5708748125907732e-06\n",
            "Epoch 9/10  Current loss: 2.576707856860594e-06\n",
            "Epoch 10/10  Current loss: 2.709061391215073e-06\n"
          ],
          "name": "stdout"
        }
      ]
    },
    {
      "cell_type": "code",
      "metadata": {
        "id": "cYDjC1Y7AW48",
        "colab_type": "code",
        "outputId": "8bb43f47-aa63-409f-a089-07fc0d5513a4",
        "colab": {
          "base_uri": "https://localhost:8080/",
          "height": 34
        }
      },
      "source": [
        "y_test_inv = scaler.inverse_transform([y_test])\n",
        "pred_test = scaler.inverse_transform([y_guess])\n",
        "score = math.sqrt(mean_squared_error(y_test_inv, pred_test))\n",
        "print('Test RMSE: %.2f' % (score))"
      ],
      "execution_count": 21,
      "outputs": [
        {
          "output_type": "stream",
          "text": [
            "Test RMSE: 2.57\n"
          ],
          "name": "stdout"
        }
      ]
    },
    {
      "cell_type": "code",
      "metadata": {
        "id": "jAIVdo0hAW5A",
        "colab_type": "code",
        "outputId": "11debb49-10a5-4f36-b43e-654b50745195",
        "colab": {
          "base_uri": "https://localhost:8080/",
          "height": 283
        }
      },
      "source": [
        "mean_price_inv = scaler.inverse_transform(mean_price)\n",
        "train_set = mean_price_inv[:X_train.shape[0]]\n",
        "plot_series_prediction(mean_price_inv, train_set, pred_test.T, time_ahead=TIME_AHEAD,\n",
        "                       title='LSTM prediction', xlabel='Days', ylabel='Value of Microsoft Stock', \n",
        "                       legend=['True value','Training set','Test prediction'])"
      ],
      "execution_count": 22,
      "outputs": [
        {
          "output_type": "display_data",
          "data": {
            "image/png": "[encoded data removed]",
            "text/plain": [
              "<Figure size 432x288 with 1 Axes>"
            ]
          },
          "metadata": {
            "tags": []
          }
        }
      ]
    },
    {
      "cell_type": "code",
      "metadata": {
        "id": "fRs3QFS2WQJD",
        "colab_type": "code",
        "colab": {}
      },
      "source": [
        ""
      ],
      "execution_count": 0,
      "outputs": []
    }
  ]
}